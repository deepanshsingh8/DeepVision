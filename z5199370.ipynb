{
 "cells": [
  {
   "cell_type": "code",
   "execution_count": 1,
   "metadata": {},
   "outputs": [],
   "source": [
    "import cv2\n",
    "import numpy as np\n",
    "import time\n",
    "from scipy import ndimage as ndi\n",
    "from skimage.morphology import watershed\n",
    "from skimage.feature import peak_local_max"
   ]
  },
  {
   "cell_type": "code",
   "execution_count": 2,
   "metadata": {},
   "outputs": [],
   "source": [
    "def contrast_strech(image):\n",
    "    a = 0\n",
    "    b = 255\n",
    "    c = image.min()\n",
    "    d_max = image.max()\n",
    "    image_new = image\n",
    "    image_new[:,:,:] = (image[:,:,:] - c)* ((b-a)/(d_max - c)) + a #(I-c)(b-a/max - min) + a\n",
    "    return image_new"
   ]
  },
  {
   "cell_type": "code",
   "execution_count": 3,
   "metadata": {},
   "outputs": [],
   "source": [
    "def convolve_max_filtered(image,N):\n",
    "    h,w = image.shape\n",
    "    output = np.zeros((h,w),dtype = np.uint8)\n",
    "    #filter_new = np.array([[1]*N]*N  ,dtype =\"int\")  ## N*N filter with 1 in all places\n",
    "    #need to pad the image according to filter size\n",
    "    p = int((N-1)/2) #paading of zeros required\n",
    "    padded_picture = cv2.copyMakeBorder(image.copy(),p,p,p,p,cv2.BORDER_CONSTANT,value = 0)\n",
    "    for y in np.arange(p,h+p):\n",
    "        for x in np.arange(p,w+p):\n",
    "                roi = padded_picture[y-p:y+p+1, x-p:x+p+1]\n",
    "                max_pixel = np.amax((roi)) #directly finding the max value from surrounding pixels and replacing it\n",
    "                output[y-p,x-p]= max_pixel\n",
    "    output = (output*255).astype(\"uint8\")\n",
    "    return output"
   ]
  },
  {
   "cell_type": "code",
   "execution_count": 4,
   "metadata": {},
   "outputs": [],
   "source": [
    "def convolve_min_filtered(image,N):\n",
    "    h,w = image.shape\n",
    "    output = np.full((h,w),255,dtype = np.uint8)\n",
    "    #filter_new = np.array([[1]*N]*N  ,dtype =\"int\")  ## N*N filter with 1 in all places\n",
    "    #need to pad the image according to filter size\n",
    "    p = int((N-1)/2) #paading of zeros required\n",
    "    padded_picture = cv2.copyMakeBorder(image.copy(),p,p,p,p,cv2.BORDER_CONSTANT,value = 255)\n",
    "    \n",
    "    for y in np.arange(p,h+p):\n",
    "        for x in np.arange(p,w+p):\n",
    "                roi = padded_picture[y-p:y+p+1, x-p:x+p+1]\n",
    "                min_pixel = np.amin((roi)) #directly finding the max value from surrounding pixels and replacing it\n",
    "                output[y-p,x-p]= min_pixel\n",
    "           \n",
    "    output = (output*255).astype(\"uint8\")\n",
    "    return output"
   ]
  },
  {
   "cell_type": "code",
   "execution_count": 5,
   "metadata": {},
   "outputs": [],
   "source": [
    "def remove_background(image,back_img):\n",
    "    h,w = image.shape\n",
    "    output = np.zeros((h,w),dtype = \"uint8\")\n",
    "    output = np.subtract(image,back_img)\n",
    "    return output"
   ]
  },
  {
   "cell_type": "code",
   "execution_count": 6,
   "metadata": {},
   "outputs": [],
   "source": [
    "def run_algo(image,filter_size, M):\n",
    "    if M == 0:\n",
    "        max_filter =  convolve_max_filtered(image,filter_size)\n",
    "        #min_filter =  convolve_min_filtered(max_filter,filter_size)\n",
    "        final_image = remove_background(image, max_filter)\n",
    "    else:\n",
    "        min_filter = convolve_min_filtered(image,filter_size)\n",
    "        max_filter = convolve_max_filtered(min_filter,filter_size)\n",
    "        final_image = remove_background(image, max_filter)\n",
    "    return final_image"
   ]
  },
  {
   "cell_type": "code",
   "execution_count": 7,
   "metadata": {},
   "outputs": [],
   "source": [
    "def apply_watershed(img):\n",
    "    #img_array = np.array(img.convert('L'))\n",
    "    img_array = img.copy()\n",
    "    distance = ndi.distance_transform_edt(img_array)\n",
    "    markers = ndi.label(peak_local_max(distance, indices = False, labels = img_array))[0]\n",
    "    ws_labels = watershed(-distance, markers, mask = img_array)\n",
    "    return ws_labels"
   ]
  },
  {
   "cell_type": "code",
   "execution_count": 8,
   "metadata": {},
   "outputs": [],
   "source": [
    "def image_sharpening(image):\n",
    "    sigma = 10\n",
    "    a = 10\n",
    "    blur_image = cv2.GaussianBlur(image,(0,0),sigma)  #L = I*G\n",
    "    #H = image - blur_image #H = I - L\n",
    "    H = cv2.subtract(image,blur_image)\n",
    "    final_image = H*a + image #o = I+H*a\n",
    "    return final_image"
   ]
  },
  {
   "cell_type": "code",
   "execution_count": 9,
   "metadata": {},
   "outputs": [],
   "source": [
    "cap = cv2.VideoCapture(\"C:/Users/Deepansh/Desktop/COMP 9517/GROUP PROJECT/images/DIC-C2DH-HeLa/Sequence 2/t%03d.tif\")\n",
    "filter_size = 3\n",
    "M = 0\n",
    "while(1):\n",
    "    ret, frame = cap.read()\n",
    "    if (ret) :  \n",
    "        gray = cv2.cvtColor(frame, cv2.COLOR_BGR2GRAY)\n",
    "        frame = run_algo(gray, filter_size,M)\n",
    "        frame = (255-frame)\n",
    "        #frame = image_sharpening(frame)\n",
    "        #frame = apply_watershed(frame)\n",
    "        cv2.imshow('image',frame)\n",
    "        time.sleep(0.5)\n",
    "    else:\n",
    "        cap.set(cv2.CAP_PROP_POS_FRAMES, 0)\n",
    "    \n",
    "    # 'q' to quit playback\n",
    "    if (cv2.waitKey(1) & 0xFF == ord('q')):\n",
    "        break\n",
    "        \n",
    "cap.release()\n",
    "cv2.destroyAllWindows()"
   ]
  },
  {
   "cell_type": "code",
   "execution_count": null,
   "metadata": {},
   "outputs": [],
   "source": []
  },
  {
   "cell_type": "code",
   "execution_count": null,
   "metadata": {},
   "outputs": [],
   "source": []
  }
 ],
 "metadata": {
  "kernelspec": {
   "display_name": "Python 3",
   "language": "python",
   "name": "python3"
  },
  "language_info": {
   "codemirror_mode": {
    "name": "ipython",
    "version": 3
   },
   "file_extension": ".py",
   "mimetype": "text/x-python",
   "name": "python",
   "nbconvert_exporter": "python",
   "pygments_lexer": "ipython3",
   "version": "3.6.5"
  }
 },
 "nbformat": 4,
 "nbformat_minor": 4
}
