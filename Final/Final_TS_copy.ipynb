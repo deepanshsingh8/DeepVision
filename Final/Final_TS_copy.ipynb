{
 "cells": [
  {
   "cell_type": "code",
   "execution_count": 514,
   "metadata": {},
   "outputs": [],
   "source": [
    "import cv2\n",
    "import numpy as np\n",
    "import time\n",
    "from scipy import ndimage as ndi\n",
    "from skimage.morphology import watershed\n",
    "from skimage.feature import peak_local_max\n",
    "import pandas as pd\n",
    "from scipy.ndimage import label\n",
    "import sys\n",
    "import collections\n",
    "from scipy.spatial import distance as dist\n",
    "from collections import OrderedDict\n",
    "from scipy.ndimage import gaussian_filter\n",
    "import time\n",
    "import math\n",
    "import matplotlib.pyplot as plt\n",
    "import os\n",
    "\n",
    "from predict_dataset import predict_dataset"
   ]
  },
  {
   "cell_type": "markdown",
   "metadata": {},
   "source": [
    "## Predicting DIC-C2DH-HeLa and creating 8-bit thresholded binary masks"
   ]
  },
  {
   "cell_type": "code",
   "execution_count": 519,
   "metadata": {},
   "outputs": [],
   "source": [
    "def convert_mask(img_path):\n",
    "    img16 = cv2.imread(img_path,-1)\n",
    "    ratio = np.amax(img16) / 256\n",
    "    img8 = (img16 / ratio).astype('uint8')\n",
    "    thres = cv2.adaptiveThreshold(img8, 255, cv2.ADAPTIVE_THRESH_GAUSSIAN_C, cv2.THRESH_BINARY,3,2)\n",
    "    background = img8 == 0\n",
    "    thres[background] = 0\n",
    "    return cv2.cvtColor(thres, cv2.COLOR_GRAY2RGB)"
   ]
  },
  {
   "cell_type": "code",
   "execution_count": 557,
   "metadata": {},
   "outputs": [],
   "source": [
    "DIC_path = r'../images/DIC-C2DH-HeLa/'\n",
    "\n",
    "sequences = [3, 4]\n",
    "\n",
    "# for seq in sequences:\n",
    "#     predict_dataset(sequence=seq)\n",
    "\n",
    "for seq in sequences:\n",
    "    seq_name = 'Sequence '+str(seq)+' Masks'\n",
    "    seq_name_binary = seq_name+'_binary'\n",
    "    if not os.path.isdir(os.path.join(DIC_path, seq_name_binary)):\n",
    "        os.mkdir(os.path.join(DIC_path, seq_name_binary))\n",
    "    path = os.path.join(DIC_path, seq_name)\n",
    "    for (dirpath, dirnames, filenames) in os.walk(path):\n",
    "        for filename in os.listdir(dirpath):\n",
    "            if 'mask' in filename and '.tif' in filename:\n",
    "                src = dirpath\n",
    "                dest = src.replace('Masks', 'Masks_binary')\n",
    "                dest_img = os.path.join(dest, filename)\n",
    "                thres = convert_mask(os.path.join(src, filename))\n",
    "                cv2.imwrite(os.path.join(dest, filename), thres)"
   ]
  },
  {
   "cell_type": "code",
   "execution_count": 304,
   "metadata": {},
   "outputs": [],
   "source": [
    "def make_boxes(color_img,image,labels):       \n",
    "    conts=[]    \n",
    "    contours=[]\n",
    "    centers = []\n",
    "    radiuses = {}\n",
    "    for label in np.unique(labels):\n",
    "        # if the label is zero, we are examining the 'background'\n",
    "        # so simply ignore it\n",
    "        if label == 0:\n",
    "            continue\n",
    "        # otherwise, allocate memory for the label region and draw\n",
    "        # it on the mask\n",
    "        mask = np.zeros(image.shape, dtype=\"uint8\")\n",
    "        mask[labels == label] = 255\n",
    "        # detect contours in the mask and grab the largest one\n",
    "        cnts = cv2.findContours(mask.copy(), cv2.RETR_EXTERNAL,\n",
    "            cv2.CHAIN_APPROX_NONE)[-2]\n",
    "        \n",
    "        for i in range(len(cnts)):\n",
    "            if len(cnts[i]) >= 5 and cv2.contourArea(cnts[i]) >= 4:\n",
    "                print(cv2.contourArea(cnts[i]))\n",
    "                ellipse=cv2.fitEllipse(cnts[i])\n",
    "                (x, y), (MA, ma), angle=ellipse\n",
    "                center = (int(x), int(y))\n",
    "                centers.append(center)\n",
    "                radiuses[center] = ma\n",
    "                #cv2.drawContours(thresh,contours,-1,(150,10,255),3)\n",
    "                #cv2.drawContours(thresh,contours,-1,(150,10,255),3)\n",
    "                \n",
    "                cv2.drawContours(color_img, cnts, -1, (255,0,0), 2, 1)\n",
    "                cv2.drawContours(image, cnts, -1, (128,128,128), 2, 1)\n",
    "                contours.append(ellipse)\n",
    "\n",
    "    ################################################################################\n",
    "\n",
    "    return image,color_img,radiuses,centers\n",
    "def remove_background(image,back_img):\n",
    "    h,w = image.shape\n",
    "    output = np.zeros((h,w),dtype = \"uint8\")\n",
    "    output = np.subtract(image,back_img)\n",
    "    return output\n",
    "def apply_watershed(img):\n",
    "    img_array = img.copy()\n",
    "    distance = ndi.distance_transform_edt(img_array)\n",
    "    markers = ndi.label(peak_local_max(distance, min_distance = 10,footprint = np.ones((11, 11)), indices = False, labels = img_array))[0]\n",
    "    ws_labels = watershed(-distance, markers, mask = img_array)\n",
    "    print(\"[INFO] {} unique segments found\".format(len(np.unique(ws_labels)) - 1))\n",
    "    return ws_labels,markers\n",
    "def segmentation_try_1(frame,gray):\n",
    "        image = frame.copy()\n",
    "        #applying min_max filtering\n",
    "        #frame = run_algo(gray, filter_size,M)\n",
    "        kernel_erosion = np.ones((3,3),np.uint8)\n",
    "        erosion = cv2.erode(gray,kernel_erosion,iterations = 1)\n",
    "        kernel_dilation = np.ones((5,5), np.uint8)\n",
    "        img_dilation = cv2.dilate(erosion, kernel_dilation, iterations=1)\n",
    "        th = cv2.adaptiveThreshold(img_dilation,255,cv2.ADAPTIVE_THRESH_GAUSSIAN_C,cv2.THRESH_BINARY,11,2)\n",
    "        frame = remove_background(th,img_dilation)\n",
    "        blur = cv2.GaussianBlur(frame,(5,5),0)\n",
    "        ret,th = cv2.threshold(blur,0,255,cv2.THRESH_BINARY+cv2.THRESH_OTSU)\n",
    "        frame = cv2.bitwise_not(th)\n",
    "        \n",
    "        kernel_erosion = np.ones((2,2),np.uint8)\n",
    "        frame = cv2.erode(frame,kernel_erosion,iterations = 4)\n",
    "        \n",
    "        #frame = frst(frame,2,2,0.25,0.25)\n",
    "        label,markers = cv2.connectedComponents(frame)\n",
    "       # print(\"labels\",label)\n",
    "       # print(\"markers\",markers)\n",
    "        #pd.DataFrame(markers).to_csv(\"markers.csv\")\n",
    "        #pd.DataFrame(label).to_csv(\"labels.csv\")\n",
    "        frame_boxes,color_img,radiuses,centers = make_boxes(image,frame,markers)\n",
    "#         return image,frame,markers\n",
    "        return color_img,frame_boxes,markers,radiuses,centers"
   ]
  },
  {
   "cell_type": "code",
   "execution_count": 5,
   "metadata": {},
   "outputs": [],
   "source": [
    "def segmentation_try_3(frame):\n",
    "        image = frame.copy()\n",
    "        frame = cv2.cvtColor(frame, cv2.COLOR_BGR2GRAY)\n",
    "        \n",
    "                \n",
    "        filtersize = (5,5)\n",
    "        kernel = cv2.getStructuringElement(cv2.MORPH_RECT,filtersize)\n",
    "        frame = cv2.erode(frame, kernel, iterations=1)\n",
    "        \n",
    "        filtersize = (3,3)\n",
    "        kernel = cv2.getStructuringElement(cv2.MORPH_RECT,filtersize)\n",
    "\n",
    "\n",
    "        th = cv2.morphologyEx(frame,cv2.MORPH_TOPHAT,kernel)\n",
    "\n",
    "        \n",
    "        thresh = cv2.adaptiveThreshold(th,255,cv2.ADAPTIVE_THRESH_GAUSSIAN_C,cv2.THRESH_BINARY,11,2)\n",
    "        \n",
    "        \n",
    "        gf = gaussian_filter(th,3)\n",
    "        \n",
    "        sub = cv2.subtract(gf,3)\n",
    "        frame = cv2.dilate(sub, kernel, iterations=1)\n",
    "\n",
    "        frame_thresh = np.where(frame < 1,sub,255)\n",
    "        \n",
    "\n",
    "        return frame_thresh"
   ]
  },
  {
   "cell_type": "code",
   "execution_count": null,
   "metadata": {},
   "outputs": [],
   "source": []
  },
  {
   "cell_type": "code",
   "execution_count": 6,
   "metadata": {},
   "outputs": [],
   "source": [
    "class CentroidTracker():\n",
    "    def __init__(self, cellID, maxDisappeared=10):\n",
    "        # initialize the next unique object ID along with two ordered\n",
    "        # dictionaries used to keep track of mapping a given object\n",
    "        # ID to its centroid and number of consecutive frames it has\n",
    "        # been marked as \"disappeared\", respectively\n",
    "        self.nextObjectID = 1\n",
    "        self.objects = OrderedDict()\n",
    "        self.disappeared = OrderedDict()\n",
    "        \n",
    "        self.colors = OrderedDict()\n",
    "        self.coords = OrderedDict()\n",
    "        self.info = OrderedDict()\n",
    "        self.selCell = cellID;\n",
    "\n",
    "        # store the number of maximum consecutive frames a given\n",
    "        # object is allowed to be marked as \"disappeared\" until we\n",
    "        # need to deregister the object from tracking\n",
    "        self.maxDisappeared = maxDisappeared\n",
    "\n",
    "    def register(self, centroid):\n",
    "        \n",
    "        # when registering an object we use the next available object\n",
    "        # ID to store the centroid\n",
    "        self.objects[self.nextObjectID] = centroid\n",
    "        self.disappeared[self.nextObjectID] = 0\n",
    "        \n",
    "        self.colors[self.nextObjectID] = tuple(np.random.choice(range(256), size=3))\n",
    "        \n",
    "        coord_list = list()\n",
    "        coord_list.append(centroid)\n",
    "        self.coords[self.nextObjectID] = coord_list\n",
    "        \n",
    "        cell_info = {'speed': 0.0, 'tDist': 0.0, 'nDist': 0.0, 'ratio': 0.0}\n",
    "        self.info[self.nextObjectID] = cell_info\n",
    "        \n",
    "        self.nextObjectID += 1\n",
    "        \n",
    "    def deregister(self, objectID):\n",
    "        # to deregister an object ID we delete the object ID from\n",
    "        # both of our respective dictionaries\n",
    "        del self.objects[objectID]\n",
    "        del self.disappeared[objectID]\n",
    "        del self.colors[objectID]\n",
    "        del self.coords[objectID]\n",
    "        del self.info[objectID]\n",
    "\n",
    "    def update(self, inputCentroids):\n",
    "        # check to see if the list of input bounding box rectangles\n",
    "        # is empty\n",
    "        if len(inputCentroids) == 0:\n",
    "            # loop over any existing tracked objects and mark them\n",
    "            # as disappeared\n",
    "            for objectID in list(self.disappeared.keys()):\n",
    "                self.disappeared[objectID] += 1\n",
    "\n",
    "                # if we have reached a maximum number of consecutive\n",
    "                # frames where a given object has been marked as\n",
    "                # missing, deregister it\n",
    "                if self.disappeared[objectID] > self.maxDisappeared:\n",
    "                    self.deregister(objectID)\n",
    "\n",
    "            # return early as there are no centroids or tracking info\n",
    "            # to update\n",
    "            return self.objects\n",
    "\n",
    "        # initialize an array of input centroids for the current frame\n",
    "        #inputCentroids = np.zeros((len(rects), 2), dtype=\"int\")\n",
    "\n",
    "        # loop over the bounding box rectangles\n",
    "#         for (i, (startX, startY, endX, endY)) in enumerate(rects):\n",
    "#             # use the bounding box coordinates to derive the centroid\n",
    "#             cX = int((startX + endX) / 2.0)\n",
    "#             cY = int((startY + endY) / 2.0)\n",
    "#             inputCentroids[i] = (cX, cY)\n",
    "\n",
    "        # if we are currently not tracking any objects take the input\n",
    "        # centroids and register each of them\n",
    "        if len(self.objects) == 0:\n",
    "            for i in range(0, len(inputCentroids)):\n",
    "                self.register(inputCentroids[i])\n",
    "        # otherwise, are are currently tracking objects so we need to\n",
    "        # try to match the input centroids to existing object\n",
    "        # centroids\n",
    "        else:\n",
    "            # grab the set of object IDs and corresponding centroids\n",
    "            objectIDs = list(self.objects.keys())\n",
    "            objectCentroids = list(self.objects.values())\n",
    "\n",
    "            # compute the distance between each pair of object\n",
    "            # centroids and input centroids, respectively -- our\n",
    "            # goal will be to match an input centroid to an existing\n",
    "            # object centroid\n",
    "            D = dist.cdist(np.array(objectCentroids), inputCentroids)\n",
    "\n",
    "            # in order to perform this matching we must (1) find the\n",
    "            # smallest value in each row and then (2) sort the row\n",
    "            # indexes based on their minimum values so that the row\n",
    "            # with the smallest value as at the *front* of the index\n",
    "            # list\n",
    "            rows = D.min(axis=1).argsort()\n",
    "\n",
    "            # next, we perform a similar process on the columns by\n",
    "            # finding the smallest value in each column and then\n",
    "            # sorting using the previously computed row index list\n",
    "            cols = D.argmin(axis=1)[rows]\n",
    "\n",
    "            # in order to determine if we need to update, register,\n",
    "            # or deregister an object we need to keep track of which\n",
    "            # of the rows and column indexes we have already examined\n",
    "            usedRows = set()\n",
    "            usedCols = set()\n",
    "\n",
    "            # loop over the combination of the (row, column) index\n",
    "            # tuples\n",
    "            for (row, col) in zip(rows, cols):\n",
    "                # if we have already examined either the row or\n",
    "                # column value before, ignore it\n",
    "                # val\n",
    "                if row in usedRows or col in usedCols:\n",
    "                    continue\n",
    "\n",
    "                # otherwise, grab the object ID for the current row,\n",
    "                # set its new centroid, and reset the disappeared\n",
    "                # counter\n",
    "                objectID = objectIDs[row]\n",
    "                \n",
    "     ###############Task 3           \n",
    "                # calculate distance between previous and current\n",
    "                # coords and update cell info\n",
    "                path_dist = cv2.norm(np.subtract(self.objects[objectID], inputCentroids[col]))\n",
    "                norm_dist = cv2.norm(np.subtract(self.coords[objectID][0], inputCentroids[col]))\n",
    "                self.info[objectID]['speed'] = path_dist\n",
    "                self.info[objectID]['tDist'] += path_dist\n",
    "                self.info[objectID]['nDist'] = norm_dist\n",
    "                if (norm_dist != 0):\n",
    "                    self.info[objectID]['ratio'] = self.info[objectID]['tDist']/norm_dist\n",
    "    ###############         \n",
    "                \n",
    "                self.objects[objectID] = inputCentroids[col]\n",
    "                self.coords[objectID].append(inputCentroids[col])\n",
    "                self.disappeared[objectID] = 0\n",
    "\n",
    "                # indicate that we have examined each of the row and\n",
    "                # column indexes, respectively\n",
    "                usedRows.add(row)\n",
    "                usedCols.add(col)\n",
    "\n",
    "            # compute both the row and column index we have NOT yet\n",
    "            # examined\n",
    "            unusedRows = set(range(0, D.shape[0])).difference(usedRows)\n",
    "            unusedCols = set(range(0, D.shape[1])).difference(usedCols)\n",
    "\n",
    "            # in the event that the number of object centroids is\n",
    "            # equal or greater than the number of input centroids\n",
    "            # we need to check and see if some of these objects have\n",
    "            # potentially disappeared\n",
    "            if D.shape[0] >= D.shape[1]:\n",
    "                # loop over the unused row indexes\n",
    "                for row in unusedRows:\n",
    "                    # grab the object ID for the corresponding row\n",
    "                    # index and increment the disappeared counter\n",
    "                    objectID = objectIDs[row]\n",
    "                    self.disappeared[objectID] += 1\n",
    "\n",
    "                    # check to see if the number of consecutive\n",
    "                    # frames the object has been marked \"disappeared\"\n",
    "                    # for warrants deregistering the object\n",
    "                    if self.disappeared[objectID] > self.maxDisappeared:\n",
    "                        self.deregister(objectID)\n",
    "\n",
    "            # otherwise, if the number of input centroids is greater\n",
    "            # than the number of existing object centroids we need to\n",
    "            # register each new input centroid as a trackable object\n",
    "            else:\n",
    "                for col in unusedCols:\n",
    "                    self.register(inputCentroids[col])\n",
    "        \n",
    "        #######task 3\n",
    "        if self.selCell != \"0\":\n",
    "            index = int(self.selCell)\n",
    "            if index < len(self.info):\n",
    "                info = \"\\nCell ID {}\\n speed: {}\\n tDist: {}\\n nDist: {}\\n ratio: {}\\n\".format(index, self.info[index]['speed'], self.info[index]['tDist'],self.info[index]['nDist'],self.info[index]['ratio'])           \n",
    "                print(info)\n",
    "        ######\n",
    "        # return the set of trackable objects\n",
    "        return self.objects\n",
    "    \n",
    "    def get_color(self, objectID):\n",
    "        return self.colors[objectID]\n",
    "    def get_coord(self, objectID):\n",
    "        return self.coords[objectID]"
   ]
  },
  {
   "cell_type": "code",
   "execution_count": 7,
   "metadata": {},
   "outputs": [],
   "source": [
    "def draw_line(image, coord1, coord2, color):\n",
    "    cv2.line(image, (int(coord1[0]), int(coord1[1])), (int(coord2[0]), int(coord2[1])) , color)"
   ]
  },
  {
   "cell_type": "code",
   "execution_count": 8,
   "metadata": {},
   "outputs": [],
   "source": [
    "def mitosis_detection(Black,segmentation_try_1_img,inputCentroids,radiuses):\n",
    "    kernel = np.ones((2,2),np.uint8)\n",
    "    tmp = cv2.erode(Black, kernel, iterations = 2)\n",
    "    dividing_cells = set()\n",
    "\n",
    "    _, tmp_contours, _ = cv2.findContours(tmp, cv2.RETR_EXTERNAL, cv2.CHAIN_APPROX_NONE)\n",
    "    tmp_centers = []\n",
    "\n",
    "    for contour in tmp_contours:\n",
    "        (x,y), radius = cv2.minEnclosingCircle(contour)\n",
    "        center = (int(x), int(y))\n",
    "        tmp_centers.append(center)\n",
    "\n",
    "\n",
    "\n",
    "\n",
    "    E_distances = dist.cdist(tmp_centers, tmp_centers, metric='euclidean')\n",
    "    for x in range(len(E_distances)):\n",
    "        for y in range(len(E_distances)):\n",
    "            if E_distances[x][y] < 20 and x != y:\n",
    "                point_1 = tmp_centers[x]\n",
    "                point_2 = tmp_centers[y]\n",
    "                dividing_cells.add(point_1)\n",
    "                dividing_cells.add(point_2)\n",
    "\n",
    "    dividing_centers = set()\n",
    "    for center in dividing_cells:\n",
    "        for x in inputCentroids:\n",
    "            dist1 = math.sqrt((x[0]-center[0])**2 + (x[1]-center[1])**2)\n",
    "            if dist1 < radiuses[x]:\n",
    "                dividing_centers.add(x)\n",
    "                cv2.ellipse(segmentation_try_1_img, (int(x[0]), int(x[1])), (20,15), 0, 0, 360, (0,0,255), 2)\n",
    "\n",
    "    "
   ]
  },
  {
   "cell_type": "code",
   "execution_count": 26,
   "metadata": {
    "scrolled": true
   },
   "outputs": [
    {
     "name": "stdout",
     "output_type": "stream",
     "text": [
      "please enter cellID of cell to track, 0 if you would not like to track a cell: 0\n"
     ]
    },
    {
     "ename": "KeyboardInterrupt",
     "evalue": "",
     "output_type": "error",
     "traceback": [
      "\u001b[1;31m---------------------------------------------------------------------------\u001b[0m",
      "\u001b[1;31mKeyboardInterrupt\u001b[0m                         Traceback (most recent call last)",
      "\u001b[1;32m<ipython-input-26-fd41a832915a>\u001b[0m in \u001b[0;36m<module>\u001b[1;34m\u001b[0m\n\u001b[0;32m     57\u001b[0m         \u001b[0mcap\u001b[0m\u001b[1;33m.\u001b[0m\u001b[0mset\u001b[0m\u001b[1;33m(\u001b[0m\u001b[0mcv2\u001b[0m\u001b[1;33m.\u001b[0m\u001b[0mCAP_PROP_POS_FRAMES\u001b[0m\u001b[1;33m,\u001b[0m \u001b[1;36m0\u001b[0m\u001b[1;33m)\u001b[0m\u001b[1;33m\u001b[0m\u001b[1;33m\u001b[0m\u001b[0m\n\u001b[0;32m     58\u001b[0m     \u001b[1;31m# 'q' to quit playback\u001b[0m\u001b[1;33m\u001b[0m\u001b[1;33m\u001b[0m\u001b[1;33m\u001b[0m\u001b[0m\n\u001b[1;32m---> 59\u001b[1;33m     \u001b[1;32mif\u001b[0m \u001b[1;33m(\u001b[0m\u001b[0mcv2\u001b[0m\u001b[1;33m.\u001b[0m\u001b[0mwaitKey\u001b[0m\u001b[1;33m(\u001b[0m\u001b[1;36m1\u001b[0m\u001b[1;33m)\u001b[0m \u001b[1;33m&\u001b[0m \u001b[1;36m0xFF\u001b[0m \u001b[1;33m==\u001b[0m \u001b[0mord\u001b[0m\u001b[1;33m(\u001b[0m\u001b[1;34m'q'\u001b[0m\u001b[1;33m)\u001b[0m\u001b[1;33m)\u001b[0m\u001b[1;33m:\u001b[0m\u001b[1;33m\u001b[0m\u001b[1;33m\u001b[0m\u001b[0m\n\u001b[0m\u001b[0;32m     60\u001b[0m         \u001b[1;32mbreak\u001b[0m\u001b[1;33m\u001b[0m\u001b[1;33m\u001b[0m\u001b[0m\n\u001b[0;32m     61\u001b[0m \u001b[1;33m\u001b[0m\u001b[0m\n",
      "\u001b[1;31mKeyboardInterrupt\u001b[0m: "
     ]
    }
   ],
   "source": [
    "cap = cv2.VideoCapture(r\"../images/DIC-C2DH-HeLa/Sequence 4 Masks/*.tif\")\n",
    "\n",
    "filter_size = 3\n",
    "selectedCell = input(\"please enter cellID of cell to track, 0 if you would not like to track a cell: \")\n",
    "ct = CentroidTracker(selectedCell)\n",
    "\n",
    "while(1):\n",
    "    ret, frame = cap.read()\n",
    "    start_time = time.time()\n",
    "    if (ret) :\n",
    "        gray = cv2.cvtColor(frame, cv2.COLOR_BGR2GRAY)\n",
    "        cv2.imshow(\"Frame1\", frame)\n",
    "#####################Section 1#########################################################      \n",
    "\n",
    "        segmentation_try_1_img,Black,markers,radiuses,inputCentroids = segmentation_try_1(frame,gray)\n",
    "        \n",
    "####################Sectior 3########################################################\n",
    "\n",
    "#         frame_thresh = segmentation_try_3(frame)\n",
    "#         _, contours, _ = cv2.findContours(frame_thresh,cv2.RETR_TREE,cv2.CHAIN_APPROX_SIMPLE)\n",
    "#         inputCentroids = []\n",
    "#         for contour in contours:\n",
    "#             (x,y), radius = cv2.minEnclosingCircle(contour)\n",
    "#             center = (x, y)\n",
    "#             inputCentroids.append(center)\n",
    "\n",
    "##################Tracking from centroids########################################################        \n",
    "\n",
    "    \n",
    "        mitosis_detection(Black,segmentation_try_1_img,inputCentroids,radiuses)\n",
    "        objects = ct.update(inputCentroids)\n",
    "        for (objectID, centroid) in objects.items():\n",
    "        # draw both the ID of the object and the centroid of the\n",
    "        # object on the output frame\n",
    "            color = (int(ct.get_color(objectID)[1]), int(ct.get_color(objectID)[0]), int(ct.get_color(objectID)[2]))\n",
    "\n",
    "            text = \"ID {}\".format(objectID)\n",
    "                #print(int(centroid[1]),int(centroid[0]))\n",
    "            cv2.putText(segmentation_try_1_img, text, (int(centroid[0]), int(centroid[1])),\n",
    "                cv2.FONT_HERSHEY_SIMPLEX, 0.5, color, 2)\n",
    "\n",
    "            cv2.circle(segmentation_try_1_img, (int(centroid[0]), int(centroid[1])), 4, color, 1)\n",
    "\n",
    "            for ind, coord in enumerate(ct.get_coord(objectID)):\n",
    "                if ind < len(ct.get_coord(objectID)) - 1:\n",
    "                    draw_line(segmentation_try_1_img, coord, ct.get_coord(objectID)[ind + 1], color)\n",
    "\n",
    "        # show the output frame\n",
    "        cv2.imshow(\"Frame\", segmentation_try_1_img)\n",
    "        end_time = time.time()\n",
    "        fps = 1/(end_time - start_time)\n",
    "        print(\"Frame Per Second: \", fps)\n",
    "\n",
    "        time.sleep(0.5)\n",
    "\n",
    "    else:\n",
    "        cap.set(cv2.CAP_PROP_POS_FRAMES, 0)\n",
    "    # 'q' to quit playback\n",
    "    if (cv2.waitKey(1) & 0xFF == ord('q')):\n",
    "        break\n",
    "        \n",
    "cap.release()\n",
    "cv2.destroyAllWindows()"
   ]
  },
  {
   "cell_type": "code",
   "execution_count": 549,
   "metadata": {},
   "outputs": [],
   "source": [
    "def make_boxes_DIC(color_img,image,labels):       \n",
    "    conts=[]    \n",
    "    contours=[]\n",
    "    centers = []\n",
    "    radiuses = {}\n",
    "    for label in np.unique(labels):\n",
    "        # if the label is zero, we are examining the 'background'\n",
    "        # so simply ignore it\n",
    "        if label == 0:\n",
    "            continue\n",
    "        # otherwise, allocate memory for the label region and draw\n",
    "        # it on the mask\n",
    "        mask = np.zeros(image.shape, dtype=\"uint8\")\n",
    "        mask[labels == label] = 255\n",
    "        # detect contours in the mask and grab the largest one\n",
    "        cnts = cv2.findContours(mask.copy(), cv2.RETR_EXTERNAL,\n",
    "            cv2.CHAIN_APPROX_NONE)[-2]\n",
    "        \n",
    "        for i in range(len(cnts)):\n",
    "            if len(cnts[i]) >= 5 and cv2.contourArea(cnts[i]) > 2500:\n",
    "                print('cv2.contourArea(cnts[i])', cv2.contourArea(cnts[i]))\n",
    "                ellipse=cv2.fitEllipse(cnts[i])\n",
    "                (x, y), (MA, ma), angle=ellipse\n",
    "                center = (int(x), int(y))\n",
    "                centers.append(center)\n",
    "                radiuses[center] = ma\n",
    "                #cv2.drawContours(thresh,contours,-1,(150,10,255),3)\n",
    "                #cv2.drawContours(thresh,contours,-1,(150,10,255),3)\n",
    "                \n",
    "                cv2.drawContours(color_img, cnts, -1, (255,0,0), 2, 1)\n",
    "                cv2.drawContours(image, cnts, -1, (128,128,128), 2, 1)\n",
    "                contours.append(ellipse)\n",
    "\n",
    "    ################################################################################\n",
    "\n",
    "    return image,color_img,radiuses,centers"
   ]
  },
  {
   "cell_type": "code",
   "execution_count": 550,
   "metadata": {},
   "outputs": [],
   "source": [
    "def segmentation_try_1_DIC(frame, gray):\n",
    "    kernel_erosion = np.ones((3,3),np.uint8)\n",
    "    gray = cv2.erode(gray,kernel_erosion,iterations = 2)    \n",
    "    label,markers = cv2.connectedComponents(gray)\n",
    "    frame_boxes,color_img,radiuses,centers = make_boxes_DIC(frame,gray,markers)\n",
    "\n",
    "    return color_img,frame_boxes,markers,radiuses,centers"
   ]
  },
  {
   "cell_type": "code",
   "execution_count": null,
   "metadata": {},
   "outputs": [],
   "source": []
  },
  {
   "cell_type": "code",
   "execution_count": 551,
   "metadata": {},
   "outputs": [
    {
     "name": "stdout",
     "output_type": "stream",
     "text": [
      "cv2.contourArea(cnts[i]) 30860.0\n",
      "cv2.contourArea(cnts[i]) 18647.5\n",
      "cv2.contourArea(cnts[i]) 12263.0\n",
      "cv2.contourArea(cnts[i]) 35643.0\n",
      "cv2.contourArea(cnts[i]) 2521.0\n",
      "cv2.contourArea(cnts[i]) 13880.5\n",
      "cv2.contourArea(cnts[i]) 6190.5\n",
      "cv2.contourArea(cnts[i]) 4340.0\n",
      "cv2.contourArea(cnts[i]) 8003.0\n"
     ]
    }
   ],
   "source": [
    "img_path = r\"C:\\Users\\tyson\\Downloads\\top 3\\DIC-C2DH-HeLa\\MU-Lux-CZ\\03_RES_binary\\t100mask.tif\"\n",
    "frame = cv2.imread(img_path)\n",
    "gray = cv2.imread(img_path, -1)\n",
    "# kernel_erosion = np.ones((3,3),np.uint8)\n",
    "# gray = cv2.erode(gray,kernel_erosion,iterations=2)\n",
    "# label,markers = cv2.connectedComponents(gray)\n",
    "# frame_boxes,color_img,radiuses,centers = make_boxes_DIC(frame,gray,markers)\n",
    "color_img,frame_boxes,markers,radiuses,centers = segmentation_try_1_DIC(frame, gray)"
   ]
  },
  {
   "cell_type": "code",
   "execution_count": 552,
   "metadata": {},
   "outputs": [
    {
     "data": {
      "text/plain": [
       "9"
      ]
     },
     "execution_count": 552,
     "metadata": {},
     "output_type": "execute_result"
    }
   ],
   "source": [
    "len(centers)"
   ]
  },
  {
   "cell_type": "code",
   "execution_count": 554,
   "metadata": {},
   "outputs": [
    {
     "data": {
      "text/plain": [
       "<matplotlib.image.AxesImage at 0x1f512bab6c8>"
      ]
     },
     "execution_count": 554,
     "metadata": {},
     "output_type": "execute_result"
    },
    {
     "data": {
      "image/png": "[encoded data removed]",
      "text/plain": [
       "<Figure size 432x288 with 1 Axes>"
      ]
     },
     "metadata": {
      "needs_background": "light"
     },
     "output_type": "display_data"
    }
   ],
   "source": [
    "plt.imshow(frame_boxes)"
   ]
  },
  {
   "cell_type": "code",
   "execution_count": 555,
   "metadata": {},
   "outputs": [
    {
     "data": {
      "text/plain": [
       "<matplotlib.image.AxesImage at 0x1f512c0c948>"
      ]
     },
     "execution_count": 555,
     "metadata": {},
     "output_type": "execute_result"
    },
    {
     "data": {
      "image/png": "[encoded data removed]",
      "text/plain": [
       "<Figure size 432x288 with 1 Axes>"
      ]
     },
     "metadata": {
      "needs_background": "light"
     },
     "output_type": "display_data"
    }
   ],
   "source": [
    "plt.imshow(color_img)"
   ]
  },
  {
   "cell_type": "code",
   "execution_count": 215,
   "metadata": {},
   "outputs": [
    {
     "name": "stdout",
     "output_type": "stream",
     "text": [
      "394.0\n",
      "109.5\n",
      "438.0\n",
      "215.0\n",
      "483.5\n",
      "466.0\n",
      "230.0\n",
      "403.5\n",
      "247.0\n",
      "193.5\n",
      "241.5\n",
      "521.0\n",
      "166.0\n",
      "229.0\n",
      "234.0\n",
      "44.5\n",
      "142.0\n",
      "248.0\n",
      "540.5\n",
      "271.5\n",
      "27.5\n",
      "248.0\n",
      "466.0\n",
      "240.0\n",
      "21.0\n",
      "76.0\n",
      "205.5\n",
      "161.5\n",
      "513.5\n",
      "217.0\n",
      "100.5\n",
      "574.5\n",
      "501.0\n",
      "329.0\n",
      "338.5\n",
      "276.0\n",
      "394.0\n",
      "109.5\n",
      "438.0\n",
      "215.0\n",
      "483.5\n",
      "466.0\n",
      "230.0\n",
      "403.5\n",
      "247.0\n",
      "193.5\n",
      "241.5\n",
      "521.0\n",
      "166.0\n",
      "229.0\n",
      "234.0\n",
      "44.5\n",
      "142.0\n",
      "248.0\n",
      "540.5\n",
      "271.5\n",
      "27.5\n",
      "248.0\n",
      "466.0\n",
      "240.0\n",
      "21.0\n",
      "76.0\n",
      "205.5\n",
      "161.5\n",
      "513.5\n",
      "217.0\n",
      "100.5\n",
      "574.5\n",
      "501.0\n",
      "329.0\n",
      "338.5\n",
      "276.0\n"
     ]
    }
   ],
   "source": [
    "img_path = r\"../images/Fluo-N2DL-HeLa/Sequence 3/t000.tif\"\n",
    "frame = cv2.imread(img_path)\n",
    "gray = cv2.cvtColor(frame, cv2.COLOR_BGR2GRAY)\n",
    "color_img,frame_boxes,markers,radiuses,centers = segmentation_try_1(frame, gray)\n",
    "frame_boxes,color_img,radiuses,centers = make_boxes(frame,gray,markers)"
   ]
  },
  {
   "cell_type": "code",
   "execution_count": 145,
   "metadata": {},
   "outputs": [
    {
     "data": {
      "text/plain": [
       "<matplotlib.image.AxesImage at 0x1f50755df08>"
      ]
     },
     "execution_count": 145,
     "metadata": {},
     "output_type": "execute_result"
    },
    {
     "data": {
      "image/png": "[encoded data removed]",
      "text/plain": [
       "<Figure size 432x288 with 1 Axes>"
      ]
     },
     "metadata": {
      "needs_background": "light"
     },
     "output_type": "display_data"
    }
   ],
   "source": [
    "plt.imshow(frame_boxes)"
   ]
  },
  {
   "cell_type": "code",
   "execution_count": 25,
   "metadata": {},
   "outputs": [
    {
     "data": {
      "text/plain": [
       "<matplotlib.image.AxesImage at 0x1f502838308>"
      ]
     },
     "execution_count": 25,
     "metadata": {},
     "output_type": "execute_result"
    },
    {
     "data": {
      "image/png": "[encoded data removed]",
      "text/plain": [
       "<Figure size 432x288 with 1 Axes>"
      ]
     },
     "metadata": {
      "needs_background": "light"
     },
     "output_type": "display_data"
    }
   ],
   "source": [
    "plt.imshow(markers)"
   ]
  }
 ],
 "metadata": {
  "kernelspec": {
   "display_name": "Python 3",
   "language": "python",
   "name": "python3"
  },
  "language_info": {
   "codemirror_mode": {
    "name": "ipython",
    "version": 3
   },
   "file_extension": ".py",
   "mimetype": "text/x-python",
   "name": "python",
   "nbconvert_exporter": "python",
   "pygments_lexer": "ipython3",
   "version": "3.7.7"
  }
 },
 "nbformat": 4,
 "nbformat_minor": 2
}
