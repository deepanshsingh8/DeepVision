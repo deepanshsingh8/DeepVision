{
 "cells": [
  {
   "cell_type": "markdown",
   "metadata": {},
   "source": [
    "# This notebook is used to process raw_data folder, by:\n",
    "- Converting all masks to 8-bit and segment the masks into black-white (for semantic segmentation)\n",
    "- Converting Fluo-N2DH-SIM+ images to 8-bit (this is the only image dataset in 16 bit)"
   ]
  },
  {
   "cell_type": "code",
   "execution_count": 2,
   "metadata": {},
   "outputs": [],
   "source": [
    "import os\n",
    "import sys\n",
    "import random\n",
    "import warnings\n",
    "from skimage import io\n",
    "import numpy as np\n",
    "import pandas as pd\n",
    "import cv2\n",
    "\n",
    "import matplotlib.pyplot as plt\n",
    "\n",
    "from tqdm import tqdm\n",
    "from itertools import chain\n",
    "from skimage.io import imread, imshow, imread_collection, concatenate_images\n",
    "from skimage.transform import resize\n",
    "from skimage.morphology import label"
   ]
  },
  {
   "cell_type": "code",
   "execution_count": 5,
   "metadata": {},
   "outputs": [],
   "source": [
    "data_path = '../'\n",
    "for (dirpath, dirnames, filenames) in os.walk(data_path):\n",
    "    if '.ini' in dirpath:\n",
    "        print(dirpath)"
   ]
  },
  {
   "cell_type": "markdown",
   "metadata": {},
   "source": [
    "# Change the filenames (CTC Full data)"
   ]
  },
  {
   "cell_type": "code",
   "execution_count": null,
   "metadata": {},
   "outputs": [],
   "source": [
    "raw_data_path = '../raw_data/'\n",
    "for (dirpath, dirnames, filenames) in os.walk(raw_data_path):\n",
    "    if not('01' in dirpath or '02' in dirpath):\n",
    "        continue\n",
    "        \n",
    "    if '01' in dirpath:\n",
    "        prefix = 'seq01_'\n",
    "    else:\n",
    "        prefix = 'seq02_'\n",
    "        \n",
    "    for filename in os.listdir(dirpath):\n",
    "        if '.tif' in filename:\n",
    "            img_no = filename[filename.find('.tif')-1:filename.find('.tif')-4:-1][::-1]\n",
    "            src = os.path.join(dirpath, filename)\n",
    "            dst = os.path.join(dirpath, prefix+img_no+'.tif')\n",
    "            os.rename(src, dst)"
   ]
  },
  {
   "cell_type": "markdown",
   "metadata": {},
   "source": [
    "# Change the filenames (Group Project data)"
   ]
  },
  {
   "cell_type": "code",
   "execution_count": 16,
   "metadata": {},
   "outputs": [],
   "source": [
    "output_data_path = '../output/'\n",
    "\n",
    "for (dirpath, dirnames, filenames) in os.walk(output_data_path):\n",
    "    if 'Sequence' in dirpath:\n",
    "        if ' 1' in dirpath:\n",
    "            prefix = 'seq01_'\n",
    "        elif ' 2' in dirpath:\n",
    "            prefix = 'seq02_'\n",
    "        elif ' 3' in dirpath:\n",
    "            prefix = 'seq03_'\n",
    "        elif ' 4' in dirpath:\n",
    "            prefix = 'seq04_'            \n",
    "        for filename in os.listdir(dirpath):\n",
    "            if '.tif' in filename:\n",
    "                img_no = filename[filename.find('.tif')-1:filename.find('.tif')-4:-1][::-1]\n",
    "                src = os.path.join(dirpath, filename)\n",
    "                dst = os.path.join(dirpath, prefix+img_no+'.tif')\n",
    "                os.rename(src, dst)            "
   ]
  },
  {
   "cell_type": "markdown",
   "metadata": {},
   "source": [
    "# Convert masks to 8-bit and Black-White segmentation"
   ]
  },
  {
   "cell_type": "code",
   "execution_count": 2,
   "metadata": {},
   "outputs": [],
   "source": [
    "def convert_masks_and_write(filepath):\n",
    "    img16 = cv2.imread(filepath,-1)\n",
    "    ratio = np.amax(img16) / 256\n",
    "    img8 = (img16 / ratio).astype('uint8')\n",
    "    thres = cv2.adaptiveThreshold(img8, 255, cv2.ADAPTIVE_THRESH_GAUSSIAN_C, cv2.THRESH_BINARY,3,2)\n",
    "    background = img8 == 0\n",
    "    thres[background] = 0\n",
    "    cv2.imwrite(filepath, thres)"
   ]
  },
  {
   "cell_type": "code",
   "execution_count": 3,
   "metadata": {},
   "outputs": [
    {
     "name": "stderr",
     "output_type": "stream",
     "text": [
      "C:\\Users\\tyson\\Anaconda3\\lib\\site-packages\\ipykernel_launcher.py:4: RuntimeWarning: invalid value encountered in true_divide\n",
      "  after removing the cwd from sys.path.\n"
     ]
    }
   ],
   "source": [
    "raw_data_path = '../raw_data/'\n",
    "for (dirpath, dirnames, filenames) in os.walk(raw_data_path):\n",
    "    if 'SEG' in dirpath:\n",
    "        for filename in os.listdir(dirpath):\n",
    "            convert_masks_and_write(os.path.join(dirpath, filename))"
   ]
  },
  {
   "cell_type": "markdown",
   "metadata": {},
   "source": [
    "# Convert Fluo-N2DH-SIM+ images to 8-bit"
   ]
  },
  {
   "cell_type": "code",
   "execution_count": 4,
   "metadata": {},
   "outputs": [],
   "source": [
    "def convert_imgs_and_write(filepath):\n",
    "    img16 = cv2.imread(filepath,-1)\n",
    "    ratio = np.amax(img16) / 256\n",
    "    img8 = (img16 / ratio).astype('uint8')\n",
    "    cv2.imwrite(filepath, img8)"
   ]
  },
  {
   "cell_type": "code",
   "execution_count": 8,
   "metadata": {},
   "outputs": [],
   "source": [
    "raw_data_path = '../raw_data/'\n",
    "for (dirpath, dirnames, filenames) in os.walk(raw_data_path):\n",
    "    if 'Fluo-N2DH-SIM+' in dirpath and '_GT' not in dirpath and ('01' in dirpath or '02' in dirpath):\n",
    "        for filename in os.listdir(dirpath):\n",
    "            convert_imgs_and_write(os.path.join(dirpath, filename))"
   ]
  },
  {
   "cell_type": "markdown",
   "metadata": {},
   "source": [
    "# Apply CLAHE"
   ]
  },
  {
   "cell_type": "code",
   "execution_count": 14,
   "metadata": {},
   "outputs": [],
   "source": [
    "def apply_CLAHE_and_save(img_path):\n",
    "    img = cv2.imread(img_path,0)\n",
    "\n",
    "    clahe = cv2.createCLAHE()\n",
    "    img_clahe = clahe.apply(img)\n",
    "    \n",
    "    cv2.imwrite(img_path, img_clahe)\n"
   ]
  },
  {
   "cell_type": "code",
   "execution_count": 16,
   "metadata": {},
   "outputs": [],
   "source": [
    "imgs_path = [r'../data/DIC-C2DH-HeLa/train/images/', \n",
    "             r'../data/DIC-C2DH-HeLa/val/images/', \n",
    "             r'../output/DIC-C2DH-HeLa/images/'\n",
    "            ]\n",
    "\n",
    "for path in imgs_path:\n",
    "    for (dirpath, dirnames, filenames) in os.walk(path):\n",
    "        for filename in filenames:\n",
    "            img_path = os.path.join(dirpath, filename)\n",
    "            apply_CLAHE_and_save(img_path)"
   ]
  }
 ],
 "metadata": {
  "kernelspec": {
   "display_name": "Python 3",
   "language": "python",
   "name": "python3"
  },
  "language_info": {
   "codemirror_mode": {
    "name": "ipython",
    "version": 3
   },
   "file_extension": ".py",
   "mimetype": "text/x-python",
   "name": "python",
   "nbconvert_exporter": "python",
   "pygments_lexer": "ipython3",
   "version": "3.7.7"
  }
 },
 "nbformat": 4,
 "nbformat_minor": 4
}
